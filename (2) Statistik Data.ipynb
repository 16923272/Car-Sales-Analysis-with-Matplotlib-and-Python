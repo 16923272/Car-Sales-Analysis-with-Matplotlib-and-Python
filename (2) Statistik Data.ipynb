{
 "cells": [
  {
   "cell_type": "code",
   "execution_count": 2,
   "metadata": {},
   "outputs": [],
   "source": [
    "import pandas as pd\n",
    "import matplotlib.pyplot as plt\n",
    "\n",
    "df = pd.read_excel(\"car_sales_data.xlsx\")"
   ]
  },
  {
   "cell_type": "code",
   "execution_count": 3,
   "metadata": {},
   "outputs": [
    {
     "name": "stdout",
     "output_type": "stream",
     "text": [
      "Rata-rata dan Standar Deviasi harga penjualan mobil secara berurutan adalah 30018.373925565647 dan 11543.807487221702\n",
      "Rata-rata dan Standar Deviasi tingkat komisi yang dibayarkan kepada penjual secara berurutan adalah 0.09995861274730884 dan 0.028860959640587453\n",
      "Rata-rata dan Standar Deviasi harga penjualan mobil secara berurutan adalah 3000.823547414349 dan 1480.912067186474\n"
     ]
    }
   ],
   "source": [
    "# Rata-rata dan Standar Deviasi Sale Price\n",
    "print('Rata-rata dan Standar Deviasi harga penjualan mobil secara berurutan adalah', df[\"Sale_Price\"].mean(), 'dan', df[\"Sale_Price\"].std())\n",
    "\n",
    "# Rata-rata dan Standar Deviasi Commission Rate\n",
    "print('Rata-rata dan Standar Deviasi tingkat komisi yang dibayarkan kepada penjual secara berurutan adalah', df[\"Commission_Rate\"].mean(), 'dan', df[\"Commission_Rate\"].std())\n",
    "\n",
    "# Rata-rata dan Standar Deviasi Commission Earned\n",
    "print('Rata-rata dan Standar Deviasi harga penjualan mobil secara berurutan adalah', df[\"Commission_Earned\"].mean(), 'dan', df[\"Commission_Earned\"].std())"
   ]
  },
  {
   "cell_type": "code",
   "execution_count": 12,
   "metadata": {},
   "outputs": [
    {
     "name": "stdout",
     "output_type": "stream",
     "text": [
      "Persentil 10% harga jual mobil adalah: 14024.0\n",
      "Persentil 25% harga jual mobil adalah: 20030.0\n",
      "Persentil 50% harga jual mobil adalah: 30009.0\n",
      "Persentil 75% harga jual mobil adalah: 40032.0\n",
      "Persentil 90% harga jual mobil adalah: 46001.59999999998\n",
      "\n",
      "Persentil 10% tingkat komisi yang dibayarkan kepada penjual adalah: 0.0600011901468432\n",
      "Persentil 25% tingkat komisi yang dibayarkan kepada penjual adalah: 0.0749399034481236\n",
      "Persentil 50% tingkat komisi yang dibayarkan kepada penjual adalah: 0.0999674440515476\n",
      "Persentil 75% tingkat komisi yang dibayarkan kepada penjual adalah: 0.12494748020569504\n",
      "Persentil 90% tingkat komisi yang dibayarkan kepada penjual adalah: 0.1399646810209103\n",
      "\n",
      "Persentil 10% jumlah komisi yang diperoleh penjual adalah: 1255.38\n",
      "Persentil 25% jumlah komisi yang diperoleh penjual adalah: 1822.28\n",
      "Persentil 50% jumlah komisi yang diperoleh penjual adalah: 2741.75\n",
      "Persentil 75% jumlah komisi yang diperoleh penjual adalah: 3978.925\n",
      "Persentil 90% jumlah komisi yang diperoleh penjual adalah: 5186.796\n"
     ]
    }
   ],
   "source": [
    "# Persentil Sale Price\n",
    "print('Persentil 10% harga jual mobil adalah:',  df[\"Sale_Price\"].quantile(0.10))\n",
    "print('Persentil 25% harga jual mobil adalah:',  df[\"Sale_Price\"].quantile(0.25))\n",
    "print('Persentil 50% harga jual mobil adalah:',  df[\"Sale_Price\"].quantile(0.50))\n",
    "print('Persentil 75% harga jual mobil adalah:',  df[\"Sale_Price\"].quantile(0.75))\n",
    "print('Persentil 90% harga jual mobil adalah:',  df[\"Sale_Price\"].quantile(0.90))\n",
    "print()\n",
    " \n",
    "# Persentil Commision Rate\n",
    "print('Persentil 10% tingkat komisi yang dibayarkan kepada penjual adalah:',  df[\"Commission_Rate\"].quantile(0.10))\n",
    "print('Persentil 25% tingkat komisi yang dibayarkan kepada penjual adalah:',  df[\"Commission_Rate\"].quantile(0.25))\n",
    "print('Persentil 50% tingkat komisi yang dibayarkan kepada penjual adalah:',  df[\"Commission_Rate\"].quantile(0.50))\n",
    "print('Persentil 75% tingkat komisi yang dibayarkan kepada penjual adalah:',  df[\"Commission_Rate\"].quantile(0.75))\n",
    "print('Persentil 90% tingkat komisi yang dibayarkan kepada penjual adalah:',  df[\"Commission_Rate\"].quantile(0.90))\n",
    "print()\n",
    "\n",
    "# Persentil Commission Earned\n",
    "print('Persentil 10% jumlah komisi yang diperoleh penjual adalah:',  df[\"Commission_Earned\"].quantile(0.10))\n",
    "print('Persentil 25% jumlah komisi yang diperoleh penjual adalah:',  df[\"Commission_Earned\"].quantile(0.25))\n",
    "print('Persentil 50% jumlah komisi yang diperoleh penjual adalah:',  df[\"Commission_Earned\"].quantile(0.50))\n",
    "print('Persentil 75% jumlah komisi yang diperoleh penjual adalah:',  df[\"Commission_Earned\"].quantile(0.75))\n",
    "print('Persentil 90% jumlah komisi yang diperoleh penjual adalah:',  df[\"Commission_Earned\"].quantile(0.90))"
   ]
  },
  {
   "cell_type": "code",
   "execution_count": 18,
   "metadata": {},
   "outputs": [
    {
     "name": "stdout",
     "output_type": "stream",
     "text": [
      "Nilai maksimum dari harga jual mobil adalah: 50000\n",
      "Nilai minimum dari harga jual mobil adalah: 10000\n",
      "\n",
      "Nilai maksimum dari tingkat komisi yang dibayarkan kepada penjual adalah: 0.1499999836035022\n",
      "Nilai minimum dari tingkat komisi yang dibayarkan kepada penjual adalah: 0.0500001359597471\n",
      "\n",
      "Nilai maksimum dari jumlah komisi yang diperoleh penjual adalah: 7494.53\n",
      "Nilai minimum dari jumlah komisi yang diperoleh penjual adalah: 501.34\n"
     ]
    }
   ],
   "source": [
    "# Maksimum dan Minimum Sale Price\n",
    "print('Nilai maksimum dari harga jual mobil adalah:', df[\"Sale_Price\"].max())\n",
    "print('Nilai minimum dari harga jual mobil adalah:', df[\"Sale_Price\"].min())\n",
    "print()\n",
    "\n",
    "# Maksimum dan Minimum Commission Rate\n",
    "print('Nilai maksimum dari tingkat komisi yang dibayarkan kepada penjual adalah:', df[\"Commission_Rate\"].max())\n",
    "print('Nilai minimum dari tingkat komisi yang dibayarkan kepada penjual adalah:', df[\"Commission_Rate\"].min())\n",
    "print()\n",
    "\n",
    "# Maksimum dan Minimum Commission Earned\n",
    "print('Nilai maksimum dari jumlah komisi yang diperoleh penjual adalah:', df[\"Commission_Earned\"].max())\n",
    "print('Nilai minimum dari jumlah komisi yang diperoleh penjual adalah:', df[\"Commission_Earned\"].min())"
   ]
  },
  {
   "cell_type": "code",
   "execution_count": 22,
   "metadata": {},
   "outputs": [
    {
     "data": {
      "text/plain": [
       "Salesperson\n",
       "Michael Smith           540\n",
       "Michael Johnson         410\n",
       "James Smith             347\n",
       "David Smith             340\n",
       "Christopher Smith       325\n",
       "                       ... \n",
       "Hannah Browning           1\n",
       "Mrs. Kristin Maxwell      1\n",
       "Mrs. Barbara Silva        1\n",
       "Sherri Simmons MD         1\n",
       "Ricardo Brewer            1\n",
       "Name: count, Length: 338696, dtype: int64"
      ]
     },
     "execution_count": 22,
     "metadata": {},
     "output_type": "execute_result"
    }
   ],
   "source": [
    "# Distribusi frekuensi Salesperson\n",
    "df['Salesperson'].value_counts()"
   ]
  },
  {
   "cell_type": "code",
   "execution_count": 21,
   "metadata": {},
   "outputs": [
    {
     "data": {
      "text/plain": [
       "Customer_Name\n",
       "Michael Smith          508\n",
       "Michael Johnson        376\n",
       "James Smith            342\n",
       "Michael Jones          325\n",
       "Michael Williams       324\n",
       "                      ... \n",
       "Christian Gordon         1\n",
       "Mr. Brian Lucero         1\n",
       "Samantha Kent            1\n",
       "Cassie Hoover            1\n",
       "Carla Fernandez DVM      1\n",
       "Name: count, Length: 338661, dtype: int64"
      ]
     },
     "execution_count": 21,
     "metadata": {},
     "output_type": "execute_result"
    }
   ],
   "source": [
    "# Distribusi frekuensi Customer_Name\n",
    "df[\"Customer_Name\"].value_counts()"
   ]
  },
  {
   "cell_type": "code",
   "execution_count": 23,
   "metadata": {},
   "outputs": [
    {
     "data": {
      "text/plain": [
       "Car_Make\n",
       "Honda        210101\n",
       "Ford         210074\n",
       "Chevrolet    209971\n",
       "Toyota       209315\n",
       "Nissan       209114\n",
       "Name: count, dtype: int64"
      ]
     },
     "execution_count": 23,
     "metadata": {},
     "output_type": "execute_result"
    }
   ],
   "source": [
    "# Distribusi frekuensi Car_Make\n",
    "df[\"Car_Make\"].value_counts()"
   ]
  },
  {
   "cell_type": "code",
   "execution_count": 4,
   "metadata": {},
   "outputs": [
    {
     "data": {
      "text/plain": [
       "Car_Model\n",
       "Silverado    210257\n",
       "Civic        209918\n",
       "F-150        209643\n",
       "Corolla      209422\n",
       "Altima       209335\n",
       "Name: count, dtype: int64"
      ]
     },
     "execution_count": 4,
     "metadata": {},
     "output_type": "execute_result"
    }
   ],
   "source": [
    "# Distribusi frekuensi Car_Model\n",
    "df[\"Car_Model\"].value_counts()"
   ]
  }
 ],
 "metadata": {
  "kernelspec": {
   "display_name": "Python 3",
   "language": "python",
   "name": "python3"
  },
  "language_info": {
   "codemirror_mode": {
    "name": "ipython",
    "version": 3
   },
   "file_extension": ".py",
   "mimetype": "text/x-python",
   "name": "python",
   "nbconvert_exporter": "python",
   "pygments_lexer": "ipython3",
   "version": "3.12.0"
  }
 },
 "nbformat": 4,
 "nbformat_minor": 2
}
