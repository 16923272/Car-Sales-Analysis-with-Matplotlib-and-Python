{
 "cells": [
  {
   "cell_type": "code",
   "execution_count": 5,
   "metadata": {},
   "outputs": [],
   "source": [
    "import pandas as pd\n",
    "\n",
    "df = pd.read_excel(\"car_sales_data.xlsx\")"
   ]
  },
  {
   "cell_type": "code",
   "execution_count": 2,
   "metadata": {},
   "outputs": [
    {
     "data": {
      "text/html": [
       "<div>\n",
       "<style scoped>\n",
       "    .dataframe tbody tr th:only-of-type {\n",
       "        vertical-align: middle;\n",
       "    }\n",
       "\n",
       "    .dataframe tbody tr th {\n",
       "        vertical-align: top;\n",
       "    }\n",
       "\n",
       "    .dataframe thead th {\n",
       "        text-align: right;\n",
       "    }\n",
       "</style>\n",
       "<table border=\"1\" class=\"dataframe\">\n",
       "  <thead>\n",
       "    <tr style=\"text-align: right;\">\n",
       "      <th></th>\n",
       "      <th>Date</th>\n",
       "      <th>Salesperson</th>\n",
       "      <th>Customer_Name</th>\n",
       "      <th>Car_Make</th>\n",
       "      <th>Car_Model</th>\n",
       "      <th>Car_Year</th>\n",
       "      <th>Sale_Price</th>\n",
       "      <th>Commission_Rate</th>\n",
       "      <th>Commission_Earned</th>\n",
       "    </tr>\n",
       "  </thead>\n",
       "  <tbody>\n",
       "    <tr>\n",
       "      <th>0</th>\n",
       "      <td>2023-05-01</td>\n",
       "      <td>Jennifer Odonnell</td>\n",
       "      <td>Holly Jones</td>\n",
       "      <td>Nissan</td>\n",
       "      <td>F-150</td>\n",
       "      <td>2022</td>\n",
       "      <td>42275</td>\n",
       "      <td>0.125681</td>\n",
       "      <td>5313.16</td>\n",
       "    </tr>\n",
       "    <tr>\n",
       "      <th>1</th>\n",
       "      <td>2023-05-01</td>\n",
       "      <td>Chelsea Lucero</td>\n",
       "      <td>Stanley Perez</td>\n",
       "      <td>Nissan</td>\n",
       "      <td>Civic</td>\n",
       "      <td>2021</td>\n",
       "      <td>36948</td>\n",
       "      <td>0.118207</td>\n",
       "      <td>4367.52</td>\n",
       "    </tr>\n",
       "    <tr>\n",
       "      <th>2</th>\n",
       "      <td>2023-05-01</td>\n",
       "      <td>Brittany Herrera</td>\n",
       "      <td>Jo Bennett</td>\n",
       "      <td>Chevrolet</td>\n",
       "      <td>Corolla</td>\n",
       "      <td>2014</td>\n",
       "      <td>18736</td>\n",
       "      <td>0.078463</td>\n",
       "      <td>1470.08</td>\n",
       "    </tr>\n",
       "    <tr>\n",
       "      <th>3</th>\n",
       "      <td>2023-05-01</td>\n",
       "      <td>Megan Estes</td>\n",
       "      <td>Jennifer Ramsey</td>\n",
       "      <td>Honda</td>\n",
       "      <td>Altima</td>\n",
       "      <td>2015</td>\n",
       "      <td>35703</td>\n",
       "      <td>0.086066</td>\n",
       "      <td>3072.81</td>\n",
       "    </tr>\n",
       "    <tr>\n",
       "      <th>4</th>\n",
       "      <td>2023-05-01</td>\n",
       "      <td>Patrick Lee</td>\n",
       "      <td>Ricardo Wade</td>\n",
       "      <td>Honda</td>\n",
       "      <td>F-150</td>\n",
       "      <td>2018</td>\n",
       "      <td>45915</td>\n",
       "      <td>0.120984</td>\n",
       "      <td>5554.97</td>\n",
       "    </tr>\n",
       "    <tr>\n",
       "      <th>...</th>\n",
       "      <td>...</td>\n",
       "      <td>...</td>\n",
       "      <td>...</td>\n",
       "      <td>...</td>\n",
       "      <td>...</td>\n",
       "      <td>...</td>\n",
       "      <td>...</td>\n",
       "      <td>...</td>\n",
       "      <td>...</td>\n",
       "    </tr>\n",
       "    <tr>\n",
       "      <th>1048570</th>\n",
       "      <td>2022-05-01</td>\n",
       "      <td>Sara Rowland</td>\n",
       "      <td>Victoria Matthews</td>\n",
       "      <td>Chevrolet</td>\n",
       "      <td>Corolla</td>\n",
       "      <td>2016</td>\n",
       "      <td>23164</td>\n",
       "      <td>0.100149</td>\n",
       "      <td>2319.84</td>\n",
       "    </tr>\n",
       "    <tr>\n",
       "      <th>1048571</th>\n",
       "      <td>2022-05-01</td>\n",
       "      <td>Matthew Myers</td>\n",
       "      <td>Danielle Leonard</td>\n",
       "      <td>Ford</td>\n",
       "      <td>F-150</td>\n",
       "      <td>2019</td>\n",
       "      <td>26381</td>\n",
       "      <td>0.063013</td>\n",
       "      <td>1662.34</td>\n",
       "    </tr>\n",
       "    <tr>\n",
       "      <th>1048572</th>\n",
       "      <td>2022-05-01</td>\n",
       "      <td>Shelly Gill</td>\n",
       "      <td>Laura Brown</td>\n",
       "      <td>Chevrolet</td>\n",
       "      <td>Silverado</td>\n",
       "      <td>2014</td>\n",
       "      <td>49395</td>\n",
       "      <td>0.112369</td>\n",
       "      <td>5550.48</td>\n",
       "    </tr>\n",
       "    <tr>\n",
       "      <th>1048573</th>\n",
       "      <td>2022-05-01</td>\n",
       "      <td>Ricardo Brewer</td>\n",
       "      <td>Danny Martin</td>\n",
       "      <td>Chevrolet</td>\n",
       "      <td>Corolla</td>\n",
       "      <td>2015</td>\n",
       "      <td>23530</td>\n",
       "      <td>0.127042</td>\n",
       "      <td>2989.29</td>\n",
       "    </tr>\n",
       "    <tr>\n",
       "      <th>1048574</th>\n",
       "      <td>2022-05-01</td>\n",
       "      <td>Jerry Young</td>\n",
       "      <td>Joseph Taylor</td>\n",
       "      <td>Chevrolet</td>\n",
       "      <td>Corolla</td>\n",
       "      <td>2017</td>\n",
       "      <td>24288</td>\n",
       "      <td>0.088049</td>\n",
       "      <td>2138.55</td>\n",
       "    </tr>\n",
       "  </tbody>\n",
       "</table>\n",
       "<p>1048575 rows × 9 columns</p>\n",
       "</div>"
      ],
      "text/plain": [
       "              Date        Salesperson      Customer_Name   Car_Make  \\\n",
       "0       2023-05-01  Jennifer Odonnell        Holly Jones     Nissan   \n",
       "1       2023-05-01     Chelsea Lucero      Stanley Perez     Nissan   \n",
       "2       2023-05-01   Brittany Herrera         Jo Bennett  Chevrolet   \n",
       "3       2023-05-01        Megan Estes    Jennifer Ramsey      Honda   \n",
       "4       2023-05-01        Patrick Lee       Ricardo Wade      Honda   \n",
       "...            ...                ...                ...        ...   \n",
       "1048570 2022-05-01       Sara Rowland  Victoria Matthews  Chevrolet   \n",
       "1048571 2022-05-01      Matthew Myers   Danielle Leonard       Ford   \n",
       "1048572 2022-05-01        Shelly Gill        Laura Brown  Chevrolet   \n",
       "1048573 2022-05-01     Ricardo Brewer       Danny Martin  Chevrolet   \n",
       "1048574 2022-05-01        Jerry Young      Joseph Taylor  Chevrolet   \n",
       "\n",
       "         Car_Model  Car_Year  Sale_Price  Commission_Rate  Commission_Earned  \n",
       "0            F-150      2022       42275         0.125681            5313.16  \n",
       "1            Civic      2021       36948         0.118207            4367.52  \n",
       "2          Corolla      2014       18736         0.078463            1470.08  \n",
       "3           Altima      2015       35703         0.086066            3072.81  \n",
       "4            F-150      2018       45915         0.120984            5554.97  \n",
       "...            ...       ...         ...              ...                ...  \n",
       "1048570    Corolla      2016       23164         0.100149            2319.84  \n",
       "1048571      F-150      2019       26381         0.063013            1662.34  \n",
       "1048572  Silverado      2014       49395         0.112369            5550.48  \n",
       "1048573    Corolla      2015       23530         0.127042            2989.29  \n",
       "1048574    Corolla      2017       24288         0.088049            2138.55  \n",
       "\n",
       "[1048575 rows x 9 columns]"
      ]
     },
     "execution_count": 2,
     "metadata": {},
     "output_type": "execute_result"
    }
   ],
   "source": [
    "# Pratinjau seluruh data\n",
    "df[:1048576]"
   ]
  },
  {
   "cell_type": "code",
   "execution_count": 3,
   "metadata": {},
   "outputs": [
    {
     "data": {
      "text/html": [
       "<div>\n",
       "<style scoped>\n",
       "    .dataframe tbody tr th:only-of-type {\n",
       "        vertical-align: middle;\n",
       "    }\n",
       "\n",
       "    .dataframe tbody tr th {\n",
       "        vertical-align: top;\n",
       "    }\n",
       "\n",
       "    .dataframe thead th {\n",
       "        text-align: right;\n",
       "    }\n",
       "</style>\n",
       "<table border=\"1\" class=\"dataframe\">\n",
       "  <thead>\n",
       "    <tr style=\"text-align: right;\">\n",
       "      <th></th>\n",
       "      <th>Date</th>\n",
       "      <th>Salesperson</th>\n",
       "      <th>Customer_Name</th>\n",
       "      <th>Car_Make</th>\n",
       "      <th>Car_Model</th>\n",
       "      <th>Car_Year</th>\n",
       "      <th>Sale_Price</th>\n",
       "      <th>Commission_Rate</th>\n",
       "      <th>Commission_Earned</th>\n",
       "    </tr>\n",
       "  </thead>\n",
       "  <tbody>\n",
       "    <tr>\n",
       "      <th>0</th>\n",
       "      <td>2023-05-01</td>\n",
       "      <td>Jennifer Odonnell</td>\n",
       "      <td>Holly Jones</td>\n",
       "      <td>Nissan</td>\n",
       "      <td>F-150</td>\n",
       "      <td>2022</td>\n",
       "      <td>42275</td>\n",
       "      <td>0.125681</td>\n",
       "      <td>5313.16</td>\n",
       "    </tr>\n",
       "    <tr>\n",
       "      <th>1</th>\n",
       "      <td>2023-05-01</td>\n",
       "      <td>Chelsea Lucero</td>\n",
       "      <td>Stanley Perez</td>\n",
       "      <td>Nissan</td>\n",
       "      <td>Civic</td>\n",
       "      <td>2021</td>\n",
       "      <td>36948</td>\n",
       "      <td>0.118207</td>\n",
       "      <td>4367.52</td>\n",
       "    </tr>\n",
       "    <tr>\n",
       "      <th>2</th>\n",
       "      <td>2023-05-01</td>\n",
       "      <td>Brittany Herrera</td>\n",
       "      <td>Jo Bennett</td>\n",
       "      <td>Chevrolet</td>\n",
       "      <td>Corolla</td>\n",
       "      <td>2014</td>\n",
       "      <td>18736</td>\n",
       "      <td>0.078463</td>\n",
       "      <td>1470.08</td>\n",
       "    </tr>\n",
       "    <tr>\n",
       "      <th>3</th>\n",
       "      <td>2023-05-01</td>\n",
       "      <td>Megan Estes</td>\n",
       "      <td>Jennifer Ramsey</td>\n",
       "      <td>Honda</td>\n",
       "      <td>Altima</td>\n",
       "      <td>2015</td>\n",
       "      <td>35703</td>\n",
       "      <td>0.086066</td>\n",
       "      <td>3072.81</td>\n",
       "    </tr>\n",
       "    <tr>\n",
       "      <th>4</th>\n",
       "      <td>2023-05-01</td>\n",
       "      <td>Patrick Lee</td>\n",
       "      <td>Ricardo Wade</td>\n",
       "      <td>Honda</td>\n",
       "      <td>F-150</td>\n",
       "      <td>2018</td>\n",
       "      <td>45915</td>\n",
       "      <td>0.120984</td>\n",
       "      <td>5554.97</td>\n",
       "    </tr>\n",
       "    <tr>\n",
       "      <th>5</th>\n",
       "      <td>2023-05-01</td>\n",
       "      <td>Mario Matthews</td>\n",
       "      <td>Jay Jensen</td>\n",
       "      <td>Ford</td>\n",
       "      <td>Altima</td>\n",
       "      <td>2015</td>\n",
       "      <td>42569</td>\n",
       "      <td>0.073457</td>\n",
       "      <td>3126.98</td>\n",
       "    </tr>\n",
       "    <tr>\n",
       "      <th>6</th>\n",
       "      <td>2023-05-01</td>\n",
       "      <td>Sara Brown</td>\n",
       "      <td>Jennifer Thomas</td>\n",
       "      <td>Chevrolet</td>\n",
       "      <td>Altima</td>\n",
       "      <td>2017</td>\n",
       "      <td>40799</td>\n",
       "      <td>0.119807</td>\n",
       "      <td>4888.01</td>\n",
       "    </tr>\n",
       "    <tr>\n",
       "      <th>7</th>\n",
       "      <td>2023-05-01</td>\n",
       "      <td>Laura Riley</td>\n",
       "      <td>Lisa Jackson</td>\n",
       "      <td>Nissan</td>\n",
       "      <td>Altima</td>\n",
       "      <td>2017</td>\n",
       "      <td>38884</td>\n",
       "      <td>0.141096</td>\n",
       "      <td>5486.38</td>\n",
       "    </tr>\n",
       "    <tr>\n",
       "      <th>8</th>\n",
       "      <td>2023-05-01</td>\n",
       "      <td>Thomas Boyd</td>\n",
       "      <td>Joshua Riddle</td>\n",
       "      <td>Honda</td>\n",
       "      <td>Corolla</td>\n",
       "      <td>2013</td>\n",
       "      <td>28605</td>\n",
       "      <td>0.148908</td>\n",
       "      <td>4259.52</td>\n",
       "    </tr>\n",
       "    <tr>\n",
       "      <th>9</th>\n",
       "      <td>2023-05-01</td>\n",
       "      <td>Robert Fitzgerald</td>\n",
       "      <td>Darrell Rogers</td>\n",
       "      <td>Toyota</td>\n",
       "      <td>Corolla</td>\n",
       "      <td>2016</td>\n",
       "      <td>16874</td>\n",
       "      <td>0.128422</td>\n",
       "      <td>2166.99</td>\n",
       "    </tr>\n",
       "  </tbody>\n",
       "</table>\n",
       "</div>"
      ],
      "text/plain": [
       "        Date        Salesperson    Customer_Name   Car_Make Car_Model  \\\n",
       "0 2023-05-01  Jennifer Odonnell      Holly Jones     Nissan     F-150   \n",
       "1 2023-05-01     Chelsea Lucero    Stanley Perez     Nissan     Civic   \n",
       "2 2023-05-01   Brittany Herrera       Jo Bennett  Chevrolet   Corolla   \n",
       "3 2023-05-01        Megan Estes  Jennifer Ramsey      Honda    Altima   \n",
       "4 2023-05-01        Patrick Lee     Ricardo Wade      Honda     F-150   \n",
       "5 2023-05-01     Mario Matthews       Jay Jensen       Ford    Altima   \n",
       "6 2023-05-01         Sara Brown  Jennifer Thomas  Chevrolet    Altima   \n",
       "7 2023-05-01        Laura Riley     Lisa Jackson     Nissan    Altima   \n",
       "8 2023-05-01        Thomas Boyd    Joshua Riddle      Honda   Corolla   \n",
       "9 2023-05-01  Robert Fitzgerald   Darrell Rogers     Toyota   Corolla   \n",
       "\n",
       "   Car_Year  Sale_Price  Commission_Rate  Commission_Earned  \n",
       "0      2022       42275         0.125681            5313.16  \n",
       "1      2021       36948         0.118207            4367.52  \n",
       "2      2014       18736         0.078463            1470.08  \n",
       "3      2015       35703         0.086066            3072.81  \n",
       "4      2018       45915         0.120984            5554.97  \n",
       "5      2015       42569         0.073457            3126.98  \n",
       "6      2017       40799         0.119807            4888.01  \n",
       "7      2017       38884         0.141096            5486.38  \n",
       "8      2013       28605         0.148908            4259.52  \n",
       "9      2016       16874         0.128422            2166.99  "
      ]
     },
     "execution_count": 3,
     "metadata": {},
     "output_type": "execute_result"
    }
   ],
   "source": [
    "# Pratinjau 10 data pertama\n",
    "df[0:10]"
   ]
  },
  {
   "cell_type": "code",
   "execution_count": 4,
   "metadata": {},
   "outputs": [
    {
     "data": {
      "text/plain": [
       "247903     Aaron Acevedo\n",
       "319206     Aaron Acevedo\n",
       "841684     Aaron Acevedo\n",
       "507510      Aaron Acosta\n",
       "391996       Aaron Adams\n",
       "               ...      \n",
       "262496      Zoe Williams\n",
       "1024672     Zoe Williams\n",
       "949753        Zoe Wright\n",
       "387002         Zoe Young\n",
       "574140      Zoe Young MD\n",
       "Name: Salesperson, Length: 1048575, dtype: object"
      ]
     },
     "execution_count": 4,
     "metadata": {},
     "output_type": "execute_result"
    }
   ],
   "source": [
    "# Karakteristik data Salesperson\n",
    "df[\"Salesperson\"].sort_values()"
   ]
  },
  {
   "cell_type": "code",
   "execution_count": 8,
   "metadata": {},
   "outputs": [
    {
     "data": {
      "text/plain": [
       "872737    Aaron Acevedo\n",
       "311054    Aaron Acevedo\n",
       "915502    Aaron Acevedo\n",
       "311298    Aaron Acevedo\n",
       "794165     Aaron Acosta\n",
       "              ...      \n",
       "689549     Zoe Williams\n",
       "281023       Zoe Wilson\n",
       "398614      Zoe Winters\n",
       "472112         Zoe Wood\n",
       "939255         Zoe Wood\n",
       "Name: Customer_Name, Length: 1048575, dtype: object"
      ]
     },
     "execution_count": 8,
     "metadata": {},
     "output_type": "execute_result"
    }
   ],
   "source": [
    "# Karakteristik data Customer_Name\n",
    "df[\"Customer_Name\"].sort_values()"
   ]
  },
  {
   "cell_type": "code",
   "execution_count": 6,
   "metadata": {},
   "outputs": [
    {
     "data": {
      "text/plain": [
       "Car_Make\n",
       "Honda        210101\n",
       "Ford         210074\n",
       "Chevrolet    209971\n",
       "Toyota       209315\n",
       "Nissan       209114\n",
       "Name: count, dtype: int64"
      ]
     },
     "execution_count": 6,
     "metadata": {},
     "output_type": "execute_result"
    }
   ],
   "source": [
    "# Karakteristik data Car_Make\n",
    "df[\"Car_Make\"].value_counts()"
   ]
  },
  {
   "cell_type": "code",
   "execution_count": 6,
   "metadata": {},
   "outputs": [
    {
     "data": {
      "text/plain": [
       "218414       Altima\n",
       "342316       Altima\n",
       "174468       Altima\n",
       "174470       Altima\n",
       "342314       Altima\n",
       "            ...    \n",
       "636035    Silverado\n",
       "412306    Silverado\n",
       "714723    Silverado\n",
       "636030    Silverado\n",
       "933121    Silverado\n",
       "Name: Car_Model, Length: 1048575, dtype: object"
      ]
     },
     "execution_count": 6,
     "metadata": {},
     "output_type": "execute_result"
    }
   ],
   "source": [
    "# Karakteristik data Car_Model\n",
    "df[\"Car_Model\"].sort_values()"
   ]
  },
  {
   "cell_type": "code",
   "execution_count": 18,
   "metadata": {},
   "outputs": [
    {
     "name": "stdout",
     "output_type": "stream",
     "text": [
      "Range dari Tanggal Pembelian adalah adalah: 2022-05-01 00:00:00 sampai 2023-05-01 00:00:00\n"
     ]
    }
   ],
   "source": [
    "# Karakteristik data Date\n",
    "print(\"Range dari Tanggal Pembelian adalah adalah:\", df[\"Date\"].min() ,\"sampai\", df[\"Date\"].max())"
   ]
  },
  {
   "cell_type": "code",
   "execution_count": 19,
   "metadata": {},
   "outputs": [
    {
     "name": "stdout",
     "output_type": "stream",
     "text": [
      "Range dari Tahun Rilis Mobil adalah adalah: 2010 sampai 2022\n"
     ]
    }
   ],
   "source": [
    "# Karakteristik data Car_Year\n",
    "print(\"Range dari Tahun Rilis Mobil adalah adalah:\", df[\"Car_Year\"].min() ,\"sampai\", df[\"Car_Year\"].max())"
   ]
  },
  {
   "cell_type": "code",
   "execution_count": 3,
   "metadata": {},
   "outputs": [
    {
     "name": "stdout",
     "output_type": "stream",
     "text": [
      "Range dari harga penjualan mobil adalah adalah: 10000 sampai 50000\n"
     ]
    }
   ],
   "source": [
    "# Karakteristik data Sale_Price\n",
    "print(\"Range dari harga penjualan mobil adalah adalah:\", df[\"Sale_Price\"].min() ,\"sampai\", df[\"Sale_Price\"].max())"
   ]
  },
  {
   "cell_type": "code",
   "execution_count": 4,
   "metadata": {},
   "outputs": [
    {
     "name": "stdout",
     "output_type": "stream",
     "text": [
      "Range dari tingkat komisi yang dibayarkan kepada penjual adalah adalah: 0.0500001359597471 sampai 0.1499999836035022\n"
     ]
    }
   ],
   "source": [
    "# Karakteristik data Commission_Rate\n",
    "print(\"Range dari tingkat komisi yang dibayarkan kepada penjual adalah adalah:\", df[\"Commission_Rate\"].min() ,\"sampai\", df[\"Commission_Rate\"].max())"
   ]
  },
  {
   "cell_type": "code",
   "execution_count": 5,
   "metadata": {},
   "outputs": [
    {
     "name": "stdout",
     "output_type": "stream",
     "text": [
      "Range dari tingkat komisi yang dibayarkan kepada penjual adalah adalah: 501.34 sampai 7494.53\n"
     ]
    }
   ],
   "source": [
    "# Karakteristik data Commission_Earned\n",
    "print(\"Range dari tingkat komisi yang dibayarkan kepada penjual adalah adalah:\", df[\"Commission_Earned\"].min() ,\"sampai\", df[\"Commission_Earned\"].max())"
   ]
  },
  {
   "cell_type": "code",
   "execution_count": 3,
   "metadata": {},
   "outputs": [
    {
     "data": {
      "text/plain": [
       "Date                 0\n",
       "Salesperson          0\n",
       "Customer_Name        0\n",
       "Car_Make             0\n",
       "Car_Model            0\n",
       "Car_Year             0\n",
       "Sale_Price           0\n",
       "Commission_Rate      0\n",
       "Commission_Earned    0\n",
       "dtype: int64"
      ]
     },
     "execution_count": 3,
     "metadata": {},
     "output_type": "execute_result"
    }
   ],
   "source": [
    "# Jumlah data yang kosong\n",
    "df.isnull().sum()"
   ]
  }
 ],
 "metadata": {
  "kernelspec": {
   "display_name": "Python 3",
   "language": "python",
   "name": "python3"
  },
  "language_info": {
   "codemirror_mode": {
    "name": "ipython",
    "version": 3
   },
   "file_extension": ".py",
   "mimetype": "text/x-python",
   "name": "python",
   "nbconvert_exporter": "python",
   "pygments_lexer": "ipython3",
   "version": "3.12.0"
  }
 },
 "nbformat": 4,
 "nbformat_minor": 2
}
